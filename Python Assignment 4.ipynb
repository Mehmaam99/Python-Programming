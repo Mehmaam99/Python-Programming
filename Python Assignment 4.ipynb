{
 "cells": [
  {
   "cell_type": "code",
   "execution_count": 3,
   "metadata": {},
   "outputs": [
    {
     "name": "stdout",
     "output_type": "stream",
     "text": [
      "{'first_name': 'Muhammad', 'last_name': 'Mehmaam', 'Age': 21, 'City': 'Karachi'}\n"
     ]
    }
   ],
   "source": [
    "#Question 1\n",
    "Information={\n",
    "    \"first_name\":\"Muhammad\",\n",
    "    \"last_name\":\"Mehmaam\",\n",
    "    \"Age\":21,\n",
    "    \"City\":\"Karachi\"   \n",
    "}\n",
    "print(Information)\n"
   ]
  },
  {
   "cell_type": "code",
   "execution_count": 8,
   "metadata": {},
   "outputs": [
    {
     "name": "stdout",
     "output_type": "stream",
     "text": [
      "{'first_name': 'Muhammad', 'last_name': 'Mehmaam', 'Age': 21, 'City': 'Karachi', 'Qualification': 'Undergraduate'}\n",
      "{'first_name': 'Muhammad', 'last_name': 'Mehmaam', 'Age': 21, 'City': 'Karachi'}\n"
     ]
    }
   ],
   "source": [
    "#Question 1\n",
    "Information[\"Qualification\"]=\"Undergraduate\"\n",
    "print(Information)\n",
    "del Information[\"Qualification\"]\n",
    "print(Information)\n"
   ]
  },
  {
   "cell_type": "code",
   "execution_count": 10,
   "metadata": {},
   "outputs": [
    {
     "name": "stdout",
     "output_type": "stream",
     "text": [
      "{'Madina': {'Country': 'Saudi Arabia', 'Population': '1.30 Million', 'Fact': 'Roza e Rasool'}, 'Karachi': {'Country': 'Pakistan', 'Population': '20 Million', 'Fact': 'City of Lights '}, 'New York': {'Country': 'United States of America', 'Population': '8.5 Million', 'Fact': 'City that never sleep'}}\n"
     ]
    }
   ],
   "source": [
    "#Question 2\n",
    "cities={\n",
    "    \n",
    "    \n",
    "    \"Madina\":{\n",
    "        \"Country\":\"Saudi Arabia\",\n",
    "        \"Population\":\"1.30 Million\",\n",
    "        \"Fact\":\"Roza e Rasool\"\n",
    "    \n",
    "    },\n",
    "    \"Karachi\":{\n",
    "        \"Country\":\"Pakistan\",\n",
    "        \"Population\":\"20 Million\",\n",
    "        \"Fact\":\"City of Lights \"\n",
    "    },\n",
    "    \"New York\":{\n",
    "        \"Country\":\"United States of America\",\n",
    "        \"Population\":\"8.5 Million\",\n",
    "        \"Fact\":\"City that never sleep\"\n",
    "    }\n",
    "    \n",
    "}\n",
    "print(cities)"
   ]
  },
  {
   "cell_type": "code",
   "execution_count": 12,
   "metadata": {},
   "outputs": [
    {
     "name": "stdout",
     "output_type": "stream",
     "text": [
      "\t\t\tMovie Night\n",
      "\n",
      "\t\t\tPrices\n",
      "\n",
      "\tAge Under 3 ,The Ticket is free \n",
      "\tAge Between 3 and 12 ,Pay 10$ Ticket fee\n",
      "\tOverage 12 so you are a teen,Pay 15$\n",
      "\n",
      "\tEnter Age 7\n",
      "\tPay 10\n"
     ]
    }
   ],
   "source": [
    "#Question 3\n",
    "print(\"\\t\\t\\tMovie Night\\n\")\n",
    "print(\"\\t\\t\\tPrices\\n\")\n",
    "print(\"\\tAge Under 3 ,The Ticket is free \\n\\tAge Between 3 and 12 ,Pay 10$ Ticket fee\\n\\tOverage 12 so you are a teen,Pay 15$\\n\")\n",
    "Age=int(input(\"\\tEnter Age \"))\n",
    "if Age<3 and Age>=1 :\n",
    "    print(\"\\tHurray Enjoy Free Movie\")\n",
    "elif Age>=3 and Age<12:\n",
    "    print(\"\\tPay 10\")\n",
    "elif Age>=12:\n",
    "    print(\"\\tPay 15$\")\n",
    "else:\n",
    "    print(\"Invalid Input = \",Age)"
   ]
  },
  {
   "cell_type": "code",
   "execution_count": 22,
   "metadata": {},
   "outputs": [
    {
     "name": "stdout",
     "output_type": "stream",
     "text": [
      "Alice in Wonderland\n"
     ]
    }
   ],
   "source": [
    "#Question 4\n",
    "def favorite_book(title):\n",
    "    print(title)\n",
    "favorite_book( \"Alice in Wonderland\")"
   ]
  },
  {
   "cell_type": "code",
   "execution_count": 30,
   "metadata": {},
   "outputs": [
    {
     "name": "stdout",
     "output_type": "stream",
     "text": [
      "Welcome to Number Game\n",
      "You have 3 Chances Only\n",
      "Guess the Right Number between 1 to 30\n",
      "\n",
      "Choose Right Number 15\n",
      "Wrong Answer\n",
      "Hint: Number is less than 10\n",
      "Choose Right Number 6\n",
      "Wrong Answer\n",
      "Hint: Number is not divisible by 2\n",
      "Choose Right Number 7\n",
      "Correct Answer\n",
      "Hurry You Won\n"
     ]
    }
   ],
   "source": [
    "#Question 5\n",
    "print(\"Welcome to Number Game\\nYou have 3 Chances Only\\nGuess the Right Number between 1 to 30\\n\")\n",
    "\n",
    "\n",
    "for Nums in range(0,3):\n",
    "    Num=int(input(\"Choose Right Number \"))\n",
    "    if Num==7:\n",
    "        print(\"Correct Answer\")\n",
    "        print(\"Hurry You Won\")\n",
    "        break\n",
    "    elif Nums==0:\n",
    "        print(\"Wrong Answer\")\n",
    "        print(\"Hint: Number is less than 10\")\n",
    "    elif Nums==1:\n",
    "        print(\"Wrong Answer\")\n",
    "        print(\"Hint: Number is not divisible by 2\")\n",
    "    elif Nums==2:\n",
    "        print(\"Wrong Answer\")\n",
    "        print(\"You lost all chances , Sorry try again\")\n",
    "        \n",
    "    "
   ]
  }
 ],
 "metadata": {
  "kernelspec": {
   "display_name": "Python 3",
   "language": "python",
   "name": "python3"
  },
  "language_info": {
   "codemirror_mode": {
    "name": "ipython",
    "version": 3
   },
   "file_extension": ".py",
   "mimetype": "text/x-python",
   "name": "python",
   "nbconvert_exporter": "python",
   "pygments_lexer": "ipython3",
   "version": "3.7.0"
  }
 },
 "nbformat": 4,
 "nbformat_minor": 2
}
