{
 "cells": [
  {
   "cell_type": "code",
   "execution_count": 38,
   "metadata": {},
   "outputs": [
    {
     "name": "stdout",
     "output_type": "stream",
     "text": [
      "Enter any Number to find a Factorial :5\n"
     ]
    },
    {
     "data": {
      "text/plain": [
       "120"
      ]
     },
     "execution_count": 38,
     "metadata": {},
     "output_type": "execute_result"
    }
   ],
   "source": [
    "#Question 1\n",
    "def fact(num):\n",
    "    if num == 0:\n",
    "        return 1\n",
    "    else:\n",
    "        return num * fact(num-1)\n",
    "\n",
    "num=int(input(\"Enter any Number to find a Factorial :\"))\n",
    "fact(num)\n"
   ]
  },
  {
   "cell_type": "code",
   "execution_count": 41,
   "metadata": {},
   "outputs": [
    {
     "name": "stdout",
     "output_type": "stream",
     "text": [
      "Input Sentence :  My Name is Muhammad Mehmaam.\n",
      "No. of Upper case :  4\n",
      "No. of Lower case :  19\n"
     ]
    }
   ],
   "source": [
    "#Question 2\n",
    "def string(s):\n",
    "    d={\"Upper\":0, \"Lower\":0}\n",
    "    for f in s:\n",
    "        if f.isupper():\n",
    "            d[\"Upper\"]+=1\n",
    "        elif f.islower():\n",
    "            d[\"Lower\"]+=1\n",
    "        else:\n",
    "            pass\n",
    "    print (\"Input Sentence : \", s)\n",
    "    print (\"No. of Upper case : \", d[\"Upper\"])\n",
    "    print (\"No. of Lower case : \", d[\"Lower\"])\n",
    "\n",
    "string(\"My Name is Muhammad Mehmaam.\")"
   ]
  },
  {
   "cell_type": "code",
   "execution_count": 34,
   "metadata": {},
   "outputs": [
    {
     "name": "stdout",
     "output_type": "stream",
     "text": [
      "Even 2\n",
      "Even 4\n",
      "Even 6\n",
      "Even 8\n",
      "Even 0\n",
      "Even 78\n",
      "Even 56\n",
      "Even 34\n",
      "Even 234\n",
      "Even 54\n",
      "Even 44\n"
     ]
    }
   ],
   "source": [
    "#Question 3\n",
    "l=[1,2,3,4,5,6,7,8,9,0,78,56,34,234,54,44,5,633,77,37,27,79]\n",
    "def even():\n",
    "    for a in l:\n",
    "        if a%2==0:\n",
    "            print(\"Even\",a)\n",
    "        \n",
    "even()"
   ]
  },
  {
   "cell_type": "code",
   "execution_count": 47,
   "metadata": {},
   "outputs": [
    {
     "name": "stdout",
     "output_type": "stream",
     "text": [
      "True\n"
     ]
    }
   ],
   "source": [
    "#Question 4\n",
    "def Palindrome(word):\n",
    "    left_side = 0\n",
    "    right_side = len(word) - 1\n",
    "\n",
    "    while right_side >= left_side:\n",
    "        if not word[left_side] == word[right_side]:\n",
    "            return False\n",
    "        left_side += 1\n",
    "        right_side -= 1\n",
    "    return True\n",
    "print(Palindrome(\"civic\")) \n"
   ]
  },
  {
   "cell_type": "code",
   "execution_count": 49,
   "metadata": {},
   "outputs": [
    {
     "name": "stdout",
     "output_type": "stream",
     "text": [
      "True\n"
     ]
    }
   ],
   "source": [
    "#Question 5\n",
    "def prime(num):\n",
    "    if (num==1):\n",
    "        return False\n",
    "    elif (num==2):\n",
    "        return True;\n",
    "    else:\n",
    "        for x in range(2,num):\n",
    "            if(num % x==0):\n",
    "                return False\n",
    "        return True             \n",
    "print(prime(11))\n",
    "    "
   ]
  },
  {
   "cell_type": "code",
   "execution_count": 68,
   "metadata": {},
   "outputs": [
    {
     "name": "stdout",
     "output_type": "stream",
     "text": [
      "Plates\n",
      "Meat\n",
      "detergent\n",
      "Butter\n",
      "Soap\n"
     ]
    }
   ],
   "source": [
    "#Question 6\n",
    "def user(grocery,food,*extra):\n",
    "    print(grocery+\"\\n\"+food)\n",
    "    for a in extra:\n",
    "        print(a)\n",
    "    \n",
    "\n",
    "user('Plates','Meat','detergent','Butter','Soap')\n"
   ]
  }
 ],
 "metadata": {
  "kernelspec": {
   "display_name": "Python 3",
   "language": "python",
   "name": "python3"
  },
  "language_info": {
   "codemirror_mode": {
    "name": "ipython",
    "version": 3
   },
   "file_extension": ".py",
   "mimetype": "text/x-python",
   "name": "python",
   "nbconvert_exporter": "python",
   "pygments_lexer": "ipython3",
   "version": "3.7.0"
  }
 },
 "nbformat": 4,
 "nbformat_minor": 2
}
