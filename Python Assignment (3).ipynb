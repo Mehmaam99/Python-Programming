{
 "cells": [
  {
   "cell_type": "code",
   "execution_count": 14,
   "metadata": {},
   "outputs": [
    {
     "name": "stdout",
     "output_type": "stream",
     "text": [
      "===> Calculator <===\n",
      "Enter 1st Value  3\n",
      "Enter 2nd Value  4\n",
      "\n",
      "What Operation do you want to perform?\n",
      "=>Addition = A\n",
      "=>Subtraction =S\n",
      "=>Multiplication = M\n",
      "=>Division = D\n",
      "=>Power = P\n",
      "==>  P\n",
      "Power =  81.0\n"
     ]
    }
   ],
   "source": [
    "#01\n",
    "print(\"===> Calculator <===\")\n",
    "\n",
    "val1=float(input(\"Enter 1st Value  \"))\n",
    "val2=float(input(\"Enter 2nd Value  \"))\n",
    "\n",
    "operator=input((\"\\nWhat Operation do you want to perform?\\n=>Addition = A\\n=>Subtraction =S\\n=>Multiplication = M\\n=>Division = D\\n=>Power = P\\n==>  \"))\n",
    "if operator=='A':\n",
    "    val=val1+val2\n",
    "    print(\"Addition = \",val)\n",
    "elif operator=='S':\n",
    "    val=val1-val2\n",
    "    print(\"Subtraction = \",val)\n",
    "elif operator=='M':\n",
    "    val=val1*val2\n",
    "    print(\"Multiplication = \",val)\n",
    "elif operator=='D':\n",
    "    val=val1/val2\n",
    "    print(\"Division = \",val)\n",
    "elif operator=='P':\n",
    "    val=val1**val2\n",
    "    print(\"Power = \",val)\n",
    "else :\n",
    "    print(\"Invalid Operator = \",operator)"
   ]
  },
  {
   "cell_type": "code",
   "execution_count": 38,
   "metadata": {},
   "outputs": [
    {
     "name": "stdout",
     "output_type": "stream",
     "text": [
      "Not a Numeric Number\n",
      "Integer Numeric Number  3  is present in here\n",
      "Integer Numeric Number  155  is present in here\n",
      "Not a Numeric Number\n",
      "Not a Numeric Number\n",
      "Float Numeric Number  32.5  is present in here\n"
     ]
    }
   ],
   "source": [
    "#02\n",
    "l=[\"Mehmaam\",3,155,\"Muhammad\",\"Ali\",32.5]\n",
    "for search in l:\n",
    "    if type(search)==int:\n",
    "        print(\"Integer Numeric Number \",search,\" is present in here\")\n",
    "    elif type(search)==float:\n",
    "        print(\"Float Numeric Number \",search,\" is present in here\")\n",
    "    else :\n",
    "        print(\"Not a Numeric Number\")"
   ]
  },
  {
   "cell_type": "code",
   "execution_count": 40,
   "metadata": {},
   "outputs": [
    {
     "name": "stdout",
     "output_type": "stream",
     "text": [
      "{'Name': 'Muhammad Mehmaam', 'Resident': 'Karachi', 'student': 'Sir Syed University', 'Skills': 'Python'}\n"
     ]
    }
   ],
   "source": [
    "#03\n",
    "dic={\n",
    "    \"Name\":\"Muhammad Mehmaam\",\n",
    "    \"Resident\":\"Karachi\",\n",
    "    \"student\":\"Sir Syed University\"}\n",
    "dic[\"Skills\"]=\"Python\"\n",
    "print(dic)"
   ]
  },
  {
   "cell_type": "code",
   "execution_count": 41,
   "metadata": {},
   "outputs": [
    {
     "name": "stdout",
     "output_type": "stream",
     "text": [
      "251\n"
     ]
    }
   ],
   "source": [
    "#04\n",
    "dic1={\n",
    "    \"Subject1\":78,\n",
    "    \"Subject2\":89,\n",
    "    \"Subject3\":84\n",
    "}\n",
    "print(sum(dic1.values()))"
   ]
  },
  {
   "cell_type": "code",
   "execution_count": 75,
   "metadata": {},
   "outputs": [
    {
     "data": {
      "text/plain": [
       "{22, 78, 'Hyder', 'Karachi', 'Muhammad', 'Naruto'}"
      ]
     },
     "execution_count": 75,
     "metadata": {},
     "output_type": "execute_result"
    }
   ],
   "source": [
    "#05\n",
    "listt={'Muhammad',78,'Karachi','Hyder','Karachi',22,'Naruto','Muhammad'}\n",
    "set(listt)"
   ]
  },
  {
   "cell_type": "code",
   "execution_count": 88,
   "metadata": {},
   "outputs": [
    {
     "name": "stdout",
     "output_type": "stream",
     "text": [
      "{'Name': 'Muhammad Mehmaam', 'Resident': 'Karachi', 'student': 'Sir Syed University', 'Skills': 'Python'}\n",
      "Enter  : Name\n",
      "Key already exist\n"
     ]
    }
   ],
   "source": [
    "#06\n",
    "print(dic)\n",
    "n=input(\"Enter  : \")\n",
    "if n in dic:\n",
    "    print(\"Key already exist\")\n",
    "else:\n",
    "    print(\"Not exist\")"
   ]
  }
 ],
 "metadata": {
  "kernelspec": {
   "display_name": "Python 3",
   "language": "python",
   "name": "python3"
  },
  "language_info": {
   "codemirror_mode": {
    "name": "ipython",
    "version": 3
   },
   "file_extension": ".py",
   "mimetype": "text/x-python",
   "name": "python",
   "nbconvert_exporter": "python",
   "pygments_lexer": "ipython3",
   "version": "3.7.0"
  }
 },
 "nbformat": 4,
 "nbformat_minor": 2
}
