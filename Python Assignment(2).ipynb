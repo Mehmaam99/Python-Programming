{
 "cells": [
  {
   "cell_type": "code",
   "execution_count": 9,
   "metadata": {},
   "outputs": [
    {
     "name": "stdout",
     "output_type": "stream",
     "text": [
      "Enter 1st Subject Marks  89\n",
      "Enter 2nd Subject Marks  67\n",
      "Enter 3rd Subject Marks  98\n",
      "Enter 4th Subject Marks  56\n",
      "Enter 5th Subject Marks  80\n",
      "Total Marks  390\n",
      "Percentage 78.0\n",
      "A\n"
     ]
    }
   ],
   "source": [
    "#Question NO 01\n",
    "Sub1=int(input(\"Enter 1st Subject Marks  \"))\n",
    "Sub2=int(input(\"Enter 2nd Subject Marks  \"))\n",
    "Sub3=int(input(\"Enter 3rd Subject Marks  \"))\n",
    "Sub4=int(input(\"Enter 4th Subject Marks  \"))\n",
    "Sub5=int(input(\"Enter 5th Subject Marks  \"))\n",
    "Total=Sub1+Sub2+Sub3+Sub4+Sub5\n",
    "print(\"Total Marks \" ,Total)\n",
    "Per=(Total/500)*100\n",
    "print(\"Percentage\" , Per)\n",
    "if Per<100 and Per>=80:\n",
    "    print(\"A+\")\n",
    "elif Per<80 and Per>=70:\n",
    "    print(\"A\")\n",
    "elif Per<70 and Per>=60:\n",
    "    print(\"B\")\n",
    "elif Per<60 and Per>=50:\n",
    "    print(\"C\")\n",
    "elif Per<50 :\n",
    "    print(\"Fail\")\n",
    "else:\n",
    "    print(\"Invalid Percentage\")\n",
    "\n",
    "\n",
    "\n",
    "\n"
   ]
  },
  {
   "cell_type": "code",
   "execution_count": 38,
   "metadata": {},
   "outputs": [
    {
     "name": "stdout",
     "output_type": "stream",
     "text": [
      "Even or Odd\n",
      "\n",
      "Input any Number 56757\n",
      "Odd\n"
     ]
    }
   ],
   "source": [
    "#Question Number 02\n",
    "print(\"Even or Odd\\n\")\n",
    "No=int(input(\"Input any Number \"))\n",
    "if No>=0:\n",
    "    if No%2==0:\n",
    "        print(\"Even\")\n",
    "    elif  No%2!=0:\n",
    "        print (\"Odd\")\n",
    "    else:\n",
    "        print(\"Wrong Number\")\n",
    "else:\n",
    "    print(\"Invalid Number\")"
   ]
  },
  {
   "cell_type": "code",
   "execution_count": 42,
   "metadata": {},
   "outputs": [
    {
     "data": {
      "text/plain": [
       "4"
      ]
     },
     "execution_count": 42,
     "metadata": {},
     "output_type": "execute_result"
    }
   ],
   "source": [
    "#Question Number 03\n",
    "arr=[\"Mehmaam\",3,0.8,False]\n",
    "len(arr)"
   ]
  },
  {
   "cell_type": "code",
   "execution_count": 50,
   "metadata": {},
   "outputs": [
    {
     "name": "stdout",
     "output_type": "stream",
     "text": [
      "29\n"
     ]
    }
   ],
   "source": [
    "#Question Number 04\n",
    "arr1=[3,6,4,6,7,3]\n",
    "arrr=arr1[0]+arr1[1]+arr1[2]+arr1[3]+arr1[4]+arr1[5]\n",
    "print(arrr)\n"
   ]
  },
  {
   "cell_type": "code",
   "execution_count": 55,
   "metadata": {},
   "outputs": [
    {
     "name": "stdout",
     "output_type": "stream",
     "text": [
      "[3, 6, 4, 6, 7, 3]\n"
     ]
    },
    {
     "data": {
      "text/plain": [
       "7"
      ]
     },
     "execution_count": 55,
     "metadata": {},
     "output_type": "execute_result"
    }
   ],
   "source": [
    "#Question Number 05\n",
    "print(arr1)\n",
    "max(arr1)\n"
   ]
  },
  {
   "cell_type": "code",
   "execution_count": 62,
   "metadata": {},
   "outputs": [
    {
     "name": "stdout",
     "output_type": "stream",
     "text": [
      "1\n",
      "1\n",
      "2\n",
      "3\n"
     ]
    }
   ],
   "source": [
    "#Question Number 06\n",
    "a=[1,1,2,3,5,8,13,21,34,55,89]\n",
    "for i in range(0,11):\n",
    "    if a[i]<5:\n",
    "        print(a[i])\n",
    "\n",
    "    "
   ]
  }
 ],
 "metadata": {
  "kernelspec": {
   "display_name": "Python 3",
   "language": "python",
   "name": "python3"
  },
  "language_info": {
   "codemirror_mode": {
    "name": "ipython",
    "version": 3
   },
   "file_extension": ".py",
   "mimetype": "text/x-python",
   "name": "python",
   "nbconvert_exporter": "python",
   "pygments_lexer": "ipython3",
   "version": "3.7.0"
  }
 },
 "nbformat": 4,
 "nbformat_minor": 2
}
