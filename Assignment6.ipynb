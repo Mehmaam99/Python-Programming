{
 "cells": [
  {
   "cell_type": "markdown",
   "metadata": {},
   "source": [
    "# Question 1\n",
    "Object Oriented Programming is used to deal with real Life scenarios which \n",
    "can be implemented in programming with the help of OOP."
   ]
  },
  {
   "cell_type": "markdown",
   "metadata": {},
   "source": [
    "# Question 2\n",
    "\n",
    "1)OOP provides a clear modular structure for programs.\n",
    "2)Implementation details are hidden from other modules and other modules has a clearly defined interface.\n",
    "3)It is easy to maintain and modify existing code as new objects can be created with small differences to existing ones.\n",
    "5)In OOP, programmer not only defines data types but also deals with operations applied for data stru\n",
    "OOP provides a clear modular structure for programs.\n",
    "5)objects, methods, instance, message passing, inheritance are some important properties provided by these particular languages\n",
    "6)encapsulation, polymorphism, abstraction are also counts in these fundamentals of programming language.\n",
    "7)It implements real life scenario."
   ]
  },
  {
   "cell_type": "markdown",
   "metadata": {},
   "source": [
    "# Question 3\n",
    "Function is a piece of code that is called by name.\n",
    "A method is a piece of code that is called by name that associate with an object"
   ]
  },
  {
   "cell_type": "markdown",
   "metadata": {},
   "source": [
    "# Question 4\n",
    "CLASS:A class is an entity that determines how an object will behave and what the object will contain. In other words, it is a blueprint or a set of instruction to build a specific type of object.\n",
    "OBJECT:In real-world an entity that has state and its behavior is known as an object.\n",
    "ATTRIBUTE:An Attribute is a named property of a class. It has a type. It describes the range of values that that property may hold.\n",
    "BEHAVIOR:A class's behavior determines how an instance of that class operates."
   ]
  },
  {
   "cell_type": "code",
   "execution_count": 9,
   "metadata": {},
   "outputs": [
    {
     "name": "stdout",
     "output_type": "stream",
     "text": [
      "Honda\n",
      "2012\n",
      "MA1771\n",
      "LPG\n",
      "Purple\n"
     ]
    }
   ],
   "source": [
    "#Question 5\n",
    "class Car():\n",
    "    def __init__(self,model,color,name,noplate,fuel):\n",
    "        self.model=model\n",
    "        self.color=color\n",
    "        self.name=name\n",
    "        self.noplate=noplate\n",
    "        self.fuel=fuel\n",
    "\n",
    "        def car1(self):\n",
    "            print(\"Car Name\"+self.name)\n",
    "        def car3(self):\n",
    "            print(\"Car Color\"+self.color)\n",
    "        def car3(self):\n",
    "            print(\"Car Model\"+self.model)\n",
    "O1=Car(2011,'Blue','Honda','BO3320','Diesel')\n",
    "print(O1.name)\n",
    "O2=Car(2012,'Green','Suzuki','OU0990','Petrol')\n",
    "print(O2.model)\n",
    "O3=Car(2013,'Red','Yamah','MA1771','CNG')\n",
    "print(O3.noplate)\n",
    "O4=Car(2014,'Pink','Corolla','PO3487','LPG')\n",
    "print(O4.fuel)\n",
    "O5=Car(2015,'Purple','Ferari','IG4223','Hybrid')\n",
    "print(O5.color)"
   ]
  },
  {
   "cell_type": "code",
   "execution_count": null,
   "metadata": {},
   "outputs": [],
   "source": []
  }
 ],
 "metadata": {
  "kernelspec": {
   "display_name": "Python 3",
   "language": "python",
   "name": "python3"
  },
  "language_info": {
   "codemirror_mode": {
    "name": "ipython",
    "version": 3
   },
   "file_extension": ".py",
   "mimetype": "text/x-python",
   "name": "python",
   "nbconvert_exporter": "python",
   "pygments_lexer": "ipython3",
   "version": "3.7.0"
  }
 },
 "nbformat": 4,
 "nbformat_minor": 2
}
